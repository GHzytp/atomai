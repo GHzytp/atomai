{
  "nbformat": 4,
  "nbformat_minor": 0,
  "metadata": {
    "colab": {
      "name": "Quickstart: AtomAI in the Cloud.ipynb",
      "provenance": [],
      "authorship_tag": "ABX9TyPtjx1GtKjJzPB6lua5wIUa",
      "include_colab_link": true
    },
    "kernelspec": {
      "name": "python3",
      "display_name": "Python 3"
    }
  },
  "cells": [
    {
      "cell_type": "markdown",
      "metadata": {
        "id": "view-in-github",
        "colab_type": "text"
      },
      "source": [
        "<a href=\"https://colab.research.google.com/github/pycroscopy/atomai/blob/master/examples/notebooks/Quickstart_AtomAI_in_the_Cloud.ipynb\" target=\"_parent\"><img src=\"https://colab.research.google.com/assets/colab-badge.svg\" alt=\"Open In Colab\"/></a>"
      ]
    },
    {
      "cell_type": "markdown",
      "metadata": {
        "id": "JNSCYiYuHWRo",
        "colab_type": "text"
      },
      "source": [
        "## Quickstart: AtomAI in the Cloud\n",
        "\n",
        "The easiest way to start using AtomAI is via [Google Colab](https://colab.research.google.com/notebooks/intro.ipynb), which is a free research tool from Google for machine learning education and research built on top of Jupyter Notebook. The following notebooks can be executed in Google Colab by simply clicking on \"Open in Colab\" icon:\n",
        "<br><br>\n",
        "\n",
        "1) Train a Deep Fully Convolutional Neural Network for Atom Finding [![Open In Colab](https://colab.research.google.com/assets/colab-badge.svg)](https://colab.research.google.com/github/pycroscopy/atomai/blob/master/examples/notebooks/atomai_atomnet.ipynb)\n",
        "\n",
        "\n",
        "2) Multivariate Statistical Analysis of Distortion Domains in a Single Atomic Image [![Open In Colab](https://colab.research.google.com/assets/colab-badge.svg)](https://colab.research.google.com/github/pycroscopy/atomai/blob/master/examples/notebooks/atomai_atomstat.ipynb)\n",
        "\n",
        "\n",
        "3) Variational Autoencoders I: Learning Disentangled Representations of Arbitrarily Rotated Handwritten Digits [![Open In Colab](https://colab.research.google.com/assets/colab-badge.svg)](https://colab.research.google.com/github/pycroscopy/atomai/blob/master/examples/notebooks/atomai_rVAE_digits.ipynb)\n",
        "\n",
        "4) Variational Autoencoders II: Simple Analysis of Structural Transformations in Atomic Movies [![Open In Colab](https://colab.research.google.com/assets/colab-badge.svg)](https://colab.research.google.com/github/pycroscopy/atomai/blob/master/examples/notebooks/atomai_vae.ipynb)\n",
        "\n",
        "5) Prepare Training Data from Experimental Image with Atomic Coordinates [![Open In Colab](https://colab.research.google.com/assets/colab-badge.svg)](https://colab.research.google.com/github/pycroscopy/atomai/blob/master/examples/notebooks/atomai_training_data.ipynb)"
      ]
    },
    {
      "cell_type": "code",
      "metadata": {
        "id": "y3mz5b_HWkME",
        "colab_type": "code",
        "colab": {}
      },
      "source": [
        ""
      ],
      "execution_count": null,
      "outputs": []
    }
  ]
}
